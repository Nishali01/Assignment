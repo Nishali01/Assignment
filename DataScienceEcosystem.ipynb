{
 "cells": [
  {
   "cell_type": "markdown",
   "id": "668b3a32-3ac4-42e1-9357-928044973c95",
   "metadata": {},
   "source": [
    "# Data Science Tools and Ecosystem"
   ]
  },
  {
   "cell_type": "markdown",
   "id": "c59dc426-84dd-4e13-a14e-60ef5617da55",
   "metadata": {},
   "source": [
    "In this notebook, Data Science Tools and Ecosystem are summarized."
   ]
  },
  {
   "cell_type": "markdown",
   "id": "7e0bb6a5-20a3-4288-8ffa-3bef56a7b99e",
   "metadata": {},
   "source": [
    "**Objectives:** \n",
    "- List popular languages for Data Science.\n",
    "- List commonly used libraries by Data Scientists.\n",
    "- List development environment open source tools used in Data Science.\n",
    "- Evaluate arithmetic expressions in python. "
   ]
  },
  {
   "cell_type": "markdown",
   "id": "98811a45-b3da-41ec-b944-571e3ade9840",
   "metadata": {},
   "source": [
    "Some of the popular languages that Data Scientists use are:\n",
    "1. Python\n",
    "2. R\n",
    "3. Scala\n",
    "4. SQL"
   ]
  },
  {
   "cell_type": "markdown",
   "id": "38399932-6f15-43b1-8c1f-191e90d316a3",
   "metadata": {},
   "source": [
    "Some of the commonly used libraries used by Data Scientists include:\n",
    "1. Pandas\n",
    "2. Matplotlib\n",
    "3. PyTorch\n",
    "4. TensorFlow"
   ]
  },
  {
   "cell_type": "markdown",
   "id": "8fd8a16c-b1ed-489e-89c3-6c33e748235c",
   "metadata": {},
   "source": [
    "|Data Science Tools|\n",
    "|------------------|\n",
    "|Jupyter Notebook  |\n",
    "|RStudio           |\n",
    "|VS Code           |"
   ]
  },
  {
   "cell_type": "markdown",
   "id": "f09c54da-659e-4fd0-82f9-199fe5aeaa6b",
   "metadata": {},
   "source": [
    "### Below are a few examples of evaluating arithmetic expressions in Python"
   ]
  },
  {
   "cell_type": "code",
   "execution_count": 1,
   "id": "a893dfa0-1f3a-467d-aca1-60049d42d7bf",
   "metadata": {},
   "outputs": [
    {
     "data": {
      "text/plain": [
       "17"
      ]
     },
     "execution_count": 1,
     "metadata": {},
     "output_type": "execute_result"
    }
   ],
   "source": [
    "# This a simple arithmetic expression to mutiply then add integers\n",
    "(3*4)+5"
   ]
  },
  {
   "cell_type": "code",
   "execution_count": 3,
   "id": "0f3c5432-f132-411a-b504-df3e20abe423",
   "metadata": {},
   "outputs": [
    {
     "name": "stdout",
     "output_type": "stream",
     "text": [
      "200 minutes is 3.3333333333333335 hours\n"
     ]
    }
   ],
   "source": [
    "# This will convert 200 minutes to hours by diving by 60\n",
    "minutes = 200\n",
    "hours = minutes / 60\n",
    "print(\"200 minutes is\", hours, \"hours\")\n"
   ]
  },
  {
   "cell_type": "markdown",
   "id": "0e58776f-9229-42ef-807d-ed3b1ef02e33",
   "metadata": {},
   "source": [
    "## Author\n",
    "Nishali Kolambage"
   ]
  },
  {
   "cell_type": "code",
   "execution_count": null,
   "id": "e79a1f4a-b600-49ff-8b02-257dac2578c6",
   "metadata": {},
   "outputs": [],
   "source": []
  }
 ],
 "metadata": {
  "kernelspec": {
   "display_name": "Python [conda env:base] *",
   "language": "python",
   "name": "conda-base-py"
  },
  "language_info": {
   "codemirror_mode": {
    "name": "ipython",
    "version": 3
   },
   "file_extension": ".py",
   "mimetype": "text/x-python",
   "name": "python",
   "nbconvert_exporter": "python",
   "pygments_lexer": "ipython3",
   "version": "3.12.7"
  }
 },
 "nbformat": 4,
 "nbformat_minor": 5
}
